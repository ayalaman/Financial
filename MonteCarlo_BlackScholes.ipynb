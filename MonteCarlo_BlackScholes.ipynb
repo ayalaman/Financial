{
  "nbformat": 4,
  "nbformat_minor": 0,
  "metadata": {
    "colab": {
      "name": "MonteCarlo_BlackScholes.ipynb",
      "provenance": [],
      "collapsed_sections": [],
      "authorship_tag": "ABX9TyPWH+XRoUMQNuvweQmBQnGf",
      "include_colab_link": true
    },
    "kernelspec": {
      "name": "python3",
      "display_name": "Python 3"
    }
  },
  "cells": [
    {
      "cell_type": "markdown",
      "metadata": {
        "id": "view-in-github",
        "colab_type": "text"
      },
      "source": [
        "<a href=\"https://colab.research.google.com/github/ayalaman/Financial/blob/master/MonteCarlo_BlackScholes.ipynb\" target=\"_parent\"><img src=\"https://colab.research.google.com/assets/colab-badge.svg\" alt=\"Open In Colab\"/></a>"
      ]
    },
    {
      "cell_type": "code",
      "metadata": {
        "id": "IFKUdjoTNdj2",
        "colab_type": "code",
        "colab": {
          "base_uri": "https://localhost:8080/",
          "height": 51
        },
        "outputId": "12ee0689-25e4-4260-abfd-148355c2d855"
      },
      "source": [
        "import numpy as np\n",
        "import math\n",
        "import time\n",
        "\n",
        "class OptionPricing:\n",
        "\n",
        "  def __init__(self,S0,E,T,rf,sigma,iterations):\n",
        "    self.S0 = S0\n",
        "    self.E = E\n",
        "    self.T = T\n",
        "    self.rf= rf\n",
        "    self.sigma = sigma\n",
        "    self.iterations= iterations\n",
        "  \n",
        "  def call_option_simulation(self):\n",
        "\n",
        "    #Tenemos 2 columnas: primero con 0s, la segunda columna contendra el saldo\n",
        "    #Se necesita la primera columna con 0s: la función de saldo es max(0, S-E) para la call option\n",
        "    option_data=np.zeros([self.iterations, 2])\n",
        "\n",
        "    #dimensions: 1 dimensional array with as many items as the iterations\n",
        "    rand= np.random.normal(0,1,[1, self.iterations])\n",
        "\n",
        "    #equation for the S(t) stock price\n",
        "    stock_price = self.S0*np.exp(self.T*(self.rf - 0.5*self.sigma**2)+ self.sigma*np.sqrt(self.T)*rand)\n",
        "\n",
        "    #we need S-E because we have to calculate the max (S-E,0)\n",
        "    option_data[:,1] = stock_price - self.E\n",
        "\n",
        "    #average for the teh Monte-Carlo method\n",
        "    #np.amax() returns the max (0,S-E) according to the formula\n",
        "    average = np.sum(np.amax(option_data, axis =1)) / float(self.iterations)\n",
        "\n",
        "    #have to use the exp (-rT) discount Factor\n",
        "    return np.exp(-1.0*self.rf*self.T)*average\n",
        "\n",
        "\n",
        "  def put_option_simulation(self):\n",
        "    #Tenemos 2 columnas: primero con 0s, la segunda columna contendra el saldo\n",
        "    #Se necesita la primera columna con 0s: la función de saldo es max(0, S-E) para la call option\n",
        "    option_data=np.zeros([self.iterations, 2])\n",
        "\n",
        "    #dimensions: 1 dimensional array with as many items as the iterations\n",
        "    rand= np.random.normal(0,1,[1, self.iterations])\n",
        "\n",
        "    #equation for the S(t) stock price\n",
        "    stock_price = self.S0*np.exp(self.T*(self.rf - 0.5*self.sigma**2)+self.sigma*np.sqrt(self.T)*rand)\n",
        "\n",
        "    #we need S-E because we have to calculate the max (S-E,0)\n",
        "    option_data[:,1] = self.E - stock_price\n",
        "\n",
        "    #average for the teh Monte-Carlo method\n",
        "    #np.amax() returns the max (0,S-E) according to the formula\n",
        "    average = np.sum(np.amax(option_data, axis =1)) / float(self.iterations)\n",
        "\n",
        "    #have to use the exp (-rT) discount Factor\n",
        "    return np.exp(-1.0*self.rf*self.T)*average  \n",
        "\n",
        "if __name__ == \"__main__\":\n",
        "    S0 = 100      # precio de la acción en t=0\n",
        "    E = 100       #strike price\n",
        "    T = 1         #expiración 1 = 1 año, 365 dias\n",
        "    rf = 0.05   #tasa libre de riesgo\n",
        "    sigma = 0.2   #volatilidad de la acción\n",
        "    iterations = 10000000 # Numero de iteraciones en simulación Monte Carlo\n",
        "\n",
        "    model = OptionPricing(S0,E, T, rf, sigma, iterations)\n",
        "    print(\"Call option, MonteCarlo Model:\", model.call_option_simulation())\n",
        "    print(\"Put option, MonteCarlo Model:\", model.put_option_simulation())\n",
        "\n",
        "\n"
      ],
      "execution_count": 6,
      "outputs": [
        {
          "output_type": "stream",
          "text": [
            "Call option, MonteCarlo Model: 10.456586151991901\n",
            "Put option, MonteCarlo Model: 5.57285662337415\n"
          ],
          "name": "stdout"
        }
      ]
    }
  ]
}