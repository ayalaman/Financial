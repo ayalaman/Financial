{
  "nbformat": 4,
  "nbformat_minor": 0,
  "metadata": {
    "colab": {
      "name": "TAB.ipynb",
      "provenance": [],
      "authorship_tag": "ABX9TyP5/ahGMTK1inXVqf/7ZuAb",
      "include_colab_link": true
    },
    "kernelspec": {
      "name": "python3",
      "display_name": "Python 3"
    }
  },
  "cells": [
    {
      "cell_type": "markdown",
      "metadata": {
        "id": "view-in-github",
        "colab_type": "text"
      },
      "source": [
        "<a href=\"https://colab.research.google.com/github/ayalaman/Financial/blob/master/TAB.ipynb\" target=\"_parent\"><img src=\"https://colab.research.google.com/assets/colab-badge.svg\" alt=\"Open In Colab\"/></a>"
      ]
    },
    {
      "cell_type": "code",
      "metadata": {
        "id": "Whn-BqHsn3TW",
        "colab_type": "code",
        "colab": {
          "base_uri": "https://localhost:8080/",
          "height": 102
        },
        "outputId": "a693dac0-c760-425b-98e1-34f71c2a01db"
      },
      "source": [
        "from sympy import Symbol, symbols, factor, expand, pprint, simplify\n",
        "\n",
        "t = Symbol('t')\n",
        "n = Symbol('n')\n",
        "k = Symbol('k')\n",
        "\n",
        "k1 = .107001528412017\n",
        "n1= 10\n",
        "t1 = .26\n",
        "\n",
        "VPAnualidad = (1-(1+k1)**-n1)/k1\n",
        "\n",
        "TAB1 = 1/(1-(t/n)*(1/k - (1/(k*(1+k)**n))))\n",
        "\n",
        "TAB2 = n/(n-(VPAnualidad*(1+k)**.5)*t)-1\n",
        "\n",
        "TAB3 = n/(n-(((1-(1+k)**-n)/k)*(1+k)**.5)*t)-1\n",
        "\n",
        "#pprint(simplify(TAB3))\n",
        "\n",
        "TAB4 = 1/(1-(t/n)*VPAnualidad)\n",
        "\n",
        "\n",
        "##pprint(simplify(TAB1))\n",
        "##AB = PVCF(n/(n-((PV(Dr,n,-1)(1+Dr)^0.5)T))-1) \n",
        "##=(n/(n-((PV(k,n,-1)*(1+k)^0.5)*t))-1)\n",
        "\n",
        "print(VPAnualidad)\n",
        "print(TAB1.subs({k:.107001528412017, n:10, t:.26}))\n",
        "\n",
        "##pprint(simplify(TAB2))\n",
        "\n",
        "print(TAB2.subs({k:.107001528412017, n:10, t:.26}))\n",
        "\n",
        "print(TAB3.subs({k:.107001528412017, n:10, t:.26}))\n",
        "\n",
        "print(TAB4.subs({k:.107001528412017, n:10, t:.26}))\n",
        "\n",
        "\n"
      ],
      "execution_count": 62,
      "outputs": [
        {
          "output_type": "stream",
          "text": [
            "5.96401745642701\n",
            "1.18352222791052\n",
            "0.194956897293624\n",
            "0.194956897293624\n",
            "1.18352222791052\n"
          ],
          "name": "stdout"
        }
      ]
    }
  ]
}