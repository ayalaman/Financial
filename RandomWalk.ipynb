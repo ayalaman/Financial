{
  "nbformat": 4,
  "nbformat_minor": 0,
  "metadata": {
    "colab": {
      "name": "Copia de RandomWalk.ipynb",
      "provenance": [],
      "authorship_tag": "ABX9TyOpHXb/avqKt5CedfByLv9/",
      "include_colab_link": true
    },
    "kernelspec": {
      "name": "python3",
      "display_name": "Python 3"
    },
    "language_info": {
      "name": "python"
    }
  },
  "cells": [
    {
      "cell_type": "markdown",
      "metadata": {
        "id": "view-in-github",
        "colab_type": "text"
      },
      "source": [
        "<a href=\"https://colab.research.google.com/github/ayalaman/Financial/blob/master/RandomWalk.ipynb\" target=\"_parent\"><img src=\"https://colab.research.google.com/assets/colab-badge.svg\" alt=\"Open In Colab\"/></a>"
      ]
    },
    {
      "cell_type": "code",
      "metadata": {
        "id": "fiH4Cf5eUDM5"
      },
      "source": [
        "import random\n",
        "\n",
        "def random_walk(n):\n",
        "\n",
        "  x, y  = 0, 0\n",
        "  for i in range(n):\n",
        "    (dx, dy) = random.choice([(0,1), (0,-1),(1,0),(-1,0)])\n",
        "    x += dx\n",
        "    y += dy\n",
        "  return (x,y)"
      ],
      "execution_count": null,
      "outputs": []
    },
    {
      "cell_type": "code",
      "metadata": {
        "id": "hYHySmnRWdy-"
      },
      "source": [
        "for i in range (25):\n",
        "  walk = random_walk(10)\n",
        "  print(walk, \"Distance from home = \",  abs(walk[0]) + abs(walk[1]))"
      ],
      "execution_count": null,
      "outputs": []
    },
    {
      "cell_type": "markdown",
      "metadata": {
        "id": "dwGJQzQVZvXL"
      },
      "source": [
        "# Sección nueva"
      ]
    },
    {
      "cell_type": "code",
      "metadata": {
        "colab": {
          "base_uri": "https://localhost:8080/"
        },
        "id": "Ug8M2VKMWlxr",
        "outputId": "2f102ed0-1ab5-4265-a103-1ade8918ec54"
      },
      "source": [
        "number_of_walks = 10000\n",
        "\n",
        "for walk_length in range (1, 31):\n",
        "  no_transport = 0 # Number of walks 4 or fewer blocks from home\n",
        "  for i in range (number_of_walks):\n",
        "    (x,y) = random_walk(walk_length)\n",
        "    distance = abs(x) + abs(y)\n",
        "    if distance <= 4:\n",
        "      no_transport += 1\n",
        "  no_transport_percentage = float(no_transport) / number_of_walks\n",
        "  print(\"Walks size = \", walk_length, \" / % of no transport = \", 100*no_transport_percentage)"
      ],
      "execution_count": null,
      "outputs": [
        {
          "output_type": "stream",
          "name": "stdout",
          "text": [
            "Walks size =  1  / % of no transport =  100.0\n",
            "Walks size =  2  / % of no transport =  100.0\n",
            "Walks size =  3  / % of no transport =  100.0\n",
            "Walks size =  4  / % of no transport =  100.0\n",
            "Walks size =  5  / % of no transport =  87.41\n",
            "Walks size =  6  / % of no transport =  93.47\n",
            "Walks size =  7  / % of no transport =  76.75\n",
            "Walks size =  8  / % of no transport =  86.68\n",
            "Walks size =  9  / % of no transport =  67.58\n",
            "Walks size =  10  / % of no transport =  79.39\n",
            "Walks size =  11  / % of no transport =  59.699999999999996\n",
            "Walks size =  12  / % of no transport =  72.09\n",
            "Walks size =  13  / % of no transport =  53.12\n",
            "Walks size =  14  / % of no transport =  66.83\n",
            "Walks size =  15  / % of no transport =  49.09\n",
            "Walks size =  16  / % of no transport =  61.79\n",
            "Walks size =  17  / % of no transport =  44.81\n",
            "Walks size =  18  / % of no transport =  57.99999999999999\n",
            "Walks size =  19  / % of no transport =  41.86\n",
            "Walks size =  20  / % of no transport =  53.82\n",
            "Walks size =  21  / % of no transport =  37.980000000000004\n",
            "Walks size =  22  / % of no transport =  50.91\n",
            "Walks size =  23  / % of no transport =  34.88\n",
            "Walks size =  24  / % of no transport =  48.17\n",
            "Walks size =  25  / % of no transport =  33.79\n",
            "Walks size =  26  / % of no transport =  45.42\n",
            "Walks size =  27  / % of no transport =  31.15\n",
            "Walks size =  28  / % of no transport =  42.66\n",
            "Walks size =  29  / % of no transport =  28.53\n",
            "Walks size =  30  / % of no transport =  41.660000000000004\n"
          ]
        }
      ]
    }
  ]
}