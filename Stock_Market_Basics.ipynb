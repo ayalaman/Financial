{
  "nbformat": 4,
  "nbformat_minor": 0,
  "metadata": {
    "colab": {
      "name": "Stock Market Basics.ipynb",
      "provenance": [],
      "collapsed_sections": [],
      "authorship_tag": "ABX9TyOIOOFLPYOFhDCUjz88YIWy",
      "include_colab_link": true
    },
    "kernelspec": {
      "name": "python3",
      "display_name": "Python 3"
    }
  },
  "cells": [
    {
      "cell_type": "markdown",
      "metadata": {
        "id": "view-in-github",
        "colab_type": "text"
      },
      "source": [
        "<a href=\"https://colab.research.google.com/github/ayalaman/Financial/blob/master/Stock_Market_Basics.ipynb\" target=\"_parent\"><img src=\"https://colab.research.google.com/assets/colab-badge.svg\" alt=\"Open In Colab\"/></a>"
      ]
    },
    {
      "cell_type": "markdown",
      "metadata": {
        "id": "wZVx7H5adA6Z",
        "colab_type": "text"
      },
      "source": [
        "##**Present value/future value of money**\n",
        "\n",
        "**Time value of money**\n",
        "\n",
        "The important concept in finance is that of the time value of money $x today is worth more than $x in a year's time!!!\n",
        "\n",
        "Why? because we may invest $x today -> we may invest it into stocks -> we can lend it to the bank for some interest Future money worth less because of inflation will push prices higher so the buying power of your money will be lower!\n",
        "\n",
        "**Future Value (FV)**\n",
        "\n",
        "**Future Value** is the vlaue of a current asset at a specified date in the future based on assumed rate of growth over set time\n",
        "\n",
        "*   Future Value = x (1 + r)^n\n",
        "\n",
        "**Present Value** is how much a future sum of money is worth today given a specified rate of interest\n",
        "\n",
        "*   Present Value = x / (1 + r)^n\n",
        "\n",
        "r: interest rate (.05 to 5%)\n",
        "\n",
        "x: cash flow in future\n",
        "\n",
        "n: number of years\n",
        "\n",
        "**Continuous Model w/ Differential equations**\n",
        "\n",
        "Suppose we have amount x(t) in the bank in time t. How much does this increase in value from one day to the next?\n",
        "\n",
        "-Taylor-Expansion\n",
        "\n",
        "$x(t+dt) - x(t) = dx(t)/dt * dt$\n",
        "\n",
        "-The cange in the amount of money within a dt day\n",
        "\n",
        "But the interest I recieve must be proportional to the actual x(t) amount I have and the r interest rate and the dt time step!\n",
        "\n",
        "$x(t+dt) - x(t) = dx(t)/dt * dt = r x(t) dt$\n",
        "\n",
        "$dx(t)/dt = r x(t)$ \n",
        "\n",
        "The soultion is $x(t) = x(0)e^(r*t)$\n",
        "\n",
        "*   Continuous Future = $x(0)e^(r*t)$\n",
        "*   Continuous Present = $x(0) / e^(r*t)$\n",
        "\n",
        "**Time value of money implementation**"
      ]
    },
    {
      "cell_type": "code",
      "metadata": {
        "id": "oDo__1YpdC6s",
        "colab_type": "code",
        "colab": {
          "base_uri": "https://localhost:8080/",
          "height": 102
        },
        "outputId": "310ff3bd-0436-42af-d2f2-8558a93723fc"
      },
      "source": [
        "from math import exp\n",
        "     \n",
        "def discreteFutureValue(x,r,n):\n",
        "    return x * (1+r)**n\n",
        "\n",
        "def discretePresentValue(x,r,n):\n",
        "    return x / (1+r)**n\n",
        "\n",
        "def contFutureValue(x,r,n):\n",
        "    return x * exp(r*n)\n",
        "\n",
        "def contPresentValue(x,r,n):\n",
        "    return x / exp(r*n)\n",
        "\n",
        "if __name__ == \"__main__\":\n",
        "    x = 100  # value of investment in dollars\n",
        "    r = .01 # interest rate\n",
        "    n = 1    # years\n",
        "    print(\"Value of $100\")\n",
        "    print(\"Future Discrete: \", discreteFutureValue(x,r,n))\n",
        "    print(\"Future Continuous: \", contFutureValue(x,r,n))\n",
        "    print(\"Present Discrete: \", discretePresentValue(x,r,n))\n",
        "    print(\"Present Continuous: \", contPresentValue(x,r,n))"
      ],
      "execution_count": 1,
      "outputs": [
        {
          "output_type": "stream",
          "text": [
            "Value of $100\n",
            "Future Discrete:  101.0\n",
            "Future Continuous:  101.00501670841679\n",
            "Present Discrete:  99.00990099009901\n",
            "Present Continuous:  99.00498337491682\n"
          ],
          "name": "stdout"
        }
      ]
    },
    {
      "cell_type": "markdown",
      "metadata": {
        "id": "PofgrDkbdIcQ",
        "colab_type": "text"
      },
      "source": [
        "##Stock Market Basics\n",
        "\n",
        "Stocks represent a small piece of ownship in the company\n",
        "\n",
        "Allows companies to sell ownership in an effort to raise money\n",
        "\n",
        "The shareholder gives money for a sontract stating how much of the company he owns\n",
        "\n",
        "**Why is this important**\n",
        "\n",
        "*   Dividends + any growth of the stock's value (Dividends are payments made quaterly/bi-annually to shareholds, depends on the profitability of the given company)\n",
        "\n",
        "**What is volatility?**\n",
        "\n",
        "*   Statistical measurement of the dispersion of returns for a given security\n",
        "*   This is the amount of uncertainty/risk about the size of changes in the value of a given security (stock,bond, etc.)\n",
        "\n",
        "*   We can measure volatility with standard deviation or variance between returns of the same security\n",
        "\n",
        "**Higher volatility == Higher risk**\n",
        "\n",
        "How to approximate volatility? With the **CAPM** Beta value\n",
        "\n",
        "**CAPM - Capital Assetment Pricing Mangement**\n",
        "\n",
        "Aim of stocks is to predict and trade future values\n",
        "\n",
        "###**Commodities**###\n",
        "Commodities are raw products: gold, silver,oil\n",
        "\n",
        "These are traded on the FUTURE market\n",
        "\n",
        "*   The price of these are unpredictable, but show seasonal trends/effects\n",
        "*   Scarcit of the product results in higher prices and vice-versa\n",
        "*   Most trading is done on the future market. You can make deals to buy/sell a given commodity at some time in the future.\n",
        "\n",
        "###**Currencies**###\n",
        "\n",
        "FOREX = Foreign Exchange\n",
        "\n",
        "*   the top currencies to considerL USD, CAD, AUD, YEN and EUR\n",
        "*   money is made by some mispricings: you can make arbitrage profits by exploiting these mispricings\n",
        "*   Bellman-Ford algorithm\n",
        "*   Fluctuation in exchange rates is unpredictable BUT it has something to do with interest rates\n",
        "*   Bellman-Ford builds directed graph and performs shortest path to find arbitrage opportunities\n",
        "\n",
        "###**Positions**###\n",
        "\n",
        "Long -> For long periods of ownership Short -> Expectation that the stock with momentarily inscrease before decreasing\n",
        "\n",
        "###**Bonds**##\n",
        "\n",
        "Abond is a debt investment in which an investor loans money to an entity (company or government)\n",
        "\n",
        "*   for a defined period of time\n",
        "*   variable or fixed interest rate\n",
        "\n",
        "\n",
        "###**BONDS ARE FIXED-INCOME SECURITIES**###\n",
        "\n",
        "*   interest rate of bonds are a bit higher than banks\n",
        "\n",
        "*   Agencies assign ratings to bond issuers: if the issuer has poor credit -> risk of default is greater\n",
        "\n",
        "*   The longer the bond maturity, greater the porbability of default\n",
        "*   So bonds with longer time to maturity typically have higher interest rates\n",
        "\n",
        "**Bonds in general are less risk adverse than stocks**\n",
        "\n",
        "###**Bond Price & Interest Rates**##\n",
        "\n",
        "Bonds Pricing\n",
        "\n",
        "par value - \\$1000 10% rate/coupon 2 years\n",
        "\n",
        "What does this mean? In two years the buyer will recieve \\$1000 plus 10% premium\n",
        "\n",
        "*How much would an investor pay for a bond?* We have to calculate the present value of that future cash flow (because we get \\$1000 in the future!) This reinforces that the most important concept in finance is that of the time value of money \\$x today is worth more than \\$x in the future\n",
        "\n",
        "There is an inverse relationship between interest rates and bond prices\n",
        "\n",
        "*   if interest rates rise -> bond prices decline\n",
        "Present Value = 1000 / (1+.10)^2\n",
        "\n",
        "Present Value = 826.4462809917354\n",
        "\n",
        "###**Bond price and Maturity**###\n",
        "two bonds: Bond A expires in 1 year Bond B expires in 10 years\n",
        "\n",
        "The interest rate (coupon) for bond V will be greater than for bond A... investors bear more risk for greater return. The longer the maturity the greater the risk something will happen to the company.\n",
        "\n",
        "###**Bond Pricing Implementation**###\n",
        "Two types of bonds:\n",
        "\n",
        "*   Zero-coupon bonds: we get the fixed value of bond at matrity Bond price = Present Value = par_value / (1 + marketRate)^n\n",
        "*   Coupon bonds: we bond + coupon Bond price = (C/R)(1-(1/(1+r)^n)) + par_value/(1+r)^n\n",
        "\n",
        "*C: annual coupon payment *r: Interest Rate"
      ]
    },
    {
      "cell_type": "code",
      "metadata": {
        "id": "wcToEBX7dLwC",
        "colab_type": "code",
        "colab": {
          "base_uri": "https://localhost:8080/",
          "height": 51
        },
        "outputId": "9a008eb2-9e30-4540-d382-ae8b69a6b115"
      },
      "source": [
        "from math import exp\n",
        "\n",
        "def zeroBondPrice(par_value,market_rate,n):\n",
        "    return par_value/(1+market_rate)**n\n",
        "\n",
        "def bondPrice(par_value,coupon, market_Rate,n):\n",
        "    c = par_value *coupon\n",
        "    return c/market_rate*(1-(1/(1+market_rate)**n))+ par_value/(1+market_rate)**n\n",
        "\n",
        "if __name__ == \"__main__\":\n",
        "    par_value = 1000   # par value of the bond\n",
        "    coupon = 0.05      # bond yield - coupon\n",
        "    n = 3              # number of years \n",
        "    market_rate = 0.04 #market rate of return\n",
        "    \n",
        "    print(\"Price of the zero-coupon bond: $%0.2f\" % zeroBondPrice(par_value,market_rate,n))\n",
        "    print(\"Price of the coupon bond: $%0.2f\" % bondPrice(par_value, coupon,market_rate,n))"
      ],
      "execution_count": 2,
      "outputs": [
        {
          "output_type": "stream",
          "text": [
            "Price of the zero-coupon bond: $889.00\n",
            "Price of the coupon bond: $1027.75\n"
          ],
          "name": "stdout"
        }
      ]
    }
  ]
}